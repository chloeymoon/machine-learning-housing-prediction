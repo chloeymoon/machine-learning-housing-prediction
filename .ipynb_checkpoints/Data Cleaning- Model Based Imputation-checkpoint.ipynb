{
 "cells": [
  {
   "cell_type": "markdown",
   "metadata": {},
   "source": [
    "## 1. Importing data, merging"
   ]
  },
  {
   "cell_type": "code",
   "execution_count": 1,
   "metadata": {
    "scrolled": true
   },
   "outputs": [
    {
     "name": "stderr",
     "output_type": "stream",
     "text": [
      "/Users/chloeymoon/anaconda3/lib/python3.7/site-packages/ipykernel_launcher.py:21: FutureWarning: Sorting because non-concatenation axis is not aligned. A future version\n",
      "of pandas will change to not sort by default.\n",
      "\n",
      "To accept the future behavior, pass 'sort=False'.\n",
      "\n",
      "To retain the current behavior and silence the warning, pass 'sort=True'.\n",
      "\n"
     ]
    }
   ],
   "source": [
    "import pandas as pd\n",
    "import numpy as np\n",
    "import matplotlib.pyplot as plt\n",
    "import re\n",
    "import seaborn as sns\n",
    "from scipy.stats import norm\n",
    "from scipy.stats import skew\n",
    "from scipy.special import boxcox1p\n",
    "from scipy.stats import boxcox_normmax\n",
    "from sklearn.preprocessing import StandardScaler\n",
    "from scipy import stats\n",
    "\n",
    "train = pd.read_csv('./data/train.csv')\n",
    "test = pd.read_csv('./data/test.csv')\n",
    "train_ID = train['Id']\n",
    "test_ID = test['Id']\n",
    "train.drop(\"Id\", axis = 1, inplace = True)\n",
    "test.drop(\"Id\", axis = 1, inplace = True)\n",
    "\n",
    "# df is the merged dataset (train + test)\n",
    "df = pd.concat((train, test)).reset_index(drop=True)"
   ]
  },
  {
   "cell_type": "code",
   "execution_count": 2,
   "metadata": {},
   "outputs": [
    {
     "name": "stderr",
     "output_type": "stream",
     "text": [
      "/Users/chloeymoon/anaconda3/lib/python3.7/site-packages/numpy/lib/histograms.py:824: RuntimeWarning: invalid value encountered in greater_equal\n",
      "  keep = (tmp_a >= first_edge)\n",
      "/Users/chloeymoon/anaconda3/lib/python3.7/site-packages/numpy/lib/histograms.py:825: RuntimeWarning: invalid value encountered in less_equal\n",
      "  keep &= (tmp_a <= last_edge)\n"
     ]
    },
    {
     "data": {
      "text/plain": [
       "(array([148., 723., 373., 135.,  51.,  19.,   4.,   3.,   2.,   2.]),\n",
       " array([ 34900., 106910., 178920., 250930., 322940., 394950., 466960.,\n",
       "        538970., 610980., 682990., 755000.]),\n",
       " <a list of 10 Patch objects>)"
      ]
     },
     "execution_count": 2,
     "metadata": {},
     "output_type": "execute_result"
    },
    {
     "data": {
      "image/png": "[encoded data removed]",
      "text/plain": [
       "<Figure size 432x288 with 1 Axes>"
      ]
     },
     "metadata": {
      "needs_background": "light"
     },
     "output_type": "display_data"
    }
   ],
   "source": [
    "# ** skewed so we need to log transform **\n",
    "plt.hist(df.SalePrice)"
   ]
  },
  {
   "cell_type": "markdown",
   "metadata": {},
   "source": [
    "## 2. Overall EDA (Distribution by variable)"
   ]
  },
  {
   "cell_type": "code",
   "execution_count": 5,
   "metadata": {},
   "outputs": [],
   "source": [
    "#allvars = list(df.columns)"
   ]
  },
  {
   "cell_type": "code",
   "execution_count": 6,
   "metadata": {},
   "outputs": [],
   "source": [
    "# helper function to visualize distribution\n",
    "def visdist(df,col):\n",
    "    plt.subplot(1, 2, 1)\n",
    "    plt.hist(df[col])\n",
    "    plt.subplot(1, 2, 2)\n",
    "    plt.scatter(df[col],df['SalePrice'])\n",
    "    plt.tight_layout()\n",
    "    plt.show()"
   ]
  },
  {
   "cell_type": "code",
   "execution_count": 8,
   "metadata": {},
   "outputs": [],
   "source": [
    "cat_colnames = df.select_dtypes(include=['object']).columns\n",
    "#print(cat_colnames, len(cat_colnames))\n",
    "num_colnames = df.select_dtypes(exclude = [\"object\"]).columns\n",
    "#print(num_colnames,len(num_colnames))"
   ]
  },
  {
   "cell_type": "markdown",
   "metadata": {},
   "source": [
    "## 3. Data Cleaning: Missing Value Imputation"
   ]
  },
  {
   "cell_type": "code",
   "execution_count": 10,
   "metadata": {},
   "outputs": [],
   "source": [
    "def clean(df):\n",
    "    # **** what to do with Year and Month?\n",
    "    for var in ['MSSubClass']:\n",
    "        # later on, change to the actual string values\n",
    "        df[var] = df[var].apply(str)\n",
    "        \n",
    "    # no garage, no bathrooms, etc., based on data description?  \n",
    "    for col in ('GarageYrBlt', 'GarageArea', 'GarageCars','MasVnrArea','BsmtFinSF1','BsmtFinSF2'\n",
    "           ,'BsmtFullBath','BsmtHalfBath','FullBath','HalfBath','BsmtUnfSF','TotalBsmtSF'):\n",
    "        df[col] = df[col].fillna(0).astype(int)\n",
    "        \n",
    "    # Replacing missing data with None, based on data description\n",
    "    for col in ['GarageType', 'GarageFinish', 'GarageQual', 'GarageCond','BsmtQual',\n",
    "            'BsmtCond', 'BsmtExposure', 'BsmtFinType1', 'BsmtFinType2',\"PoolQC\"\n",
    "           ,'Alley','Fence','MiscFeature','FireplaceQu','MasVnrType','Utilities']:\n",
    "        df[col] = df[col].fillna('None')\n",
    "            \n",
    "    # Home functionality (Assume typical unless deductions are warranted): \n",
    "    # data description says NA means typical\n",
    "    df['Functional'] = df['Functional'].fillna('Typ')\n",
    "    \n",
    "    # lot frontage: correlated with lot area (0.48) and neighborhoods (domain expertise)\n",
    "    df = cleanLotFrontage(df)\n",
    "\n",
    "    # ****** MSZoning, grouped by MSSubClass but I'm not exactly sure this is valid\n",
    "    # did chi square test, wasn't too helpful, so many other categorical variables associated as much\n",
    "    df['MSZoning'] = df.groupby('MSSubClass')['MSZoning'].transform(lambda x: x.fillna(x.mode()[0]))\n",
    "    \n",
    "    common_vars = ['Exterior1st','Exterior2nd','SaleType','Electrical','KitchenQual']\n",
    "    for var in common_vars:\n",
    "        df[var] = df[var].fillna(df[var].mode()[0])\n",
    "    \n",
    "    return df\n",
    "\n",
    "def cleanLotFrontage(df):\n",
    "    df['LotArea_bin'] = pd.cut(df['LotArea'],50).apply(lambda x: x.mid)\n",
    "    df['Lotfrontage_grouped'] = df.groupby(['Neighborhood','LotArea_bin'])['LotFrontage'].transform(lambda x: x.fillna(x.median()))\n",
    "    df['Lotfrontage_grouped'] = df.groupby(['Neighborhood'])['LotFrontage'].transform(lambda x: x.fillna(x.median()))\n",
    "    #df['LotFrontage_neigh'] = df.groupby('Neighborhood')['LotFrontage'].transform(lambda x: x.fillna(x.median()))\n",
    "    #df['LotFrontage_lotarea'] = df.groupby('LotArea')['LotFrontage'].transform(lambda x: x.fillna(x.median()))\n",
    "    df['LotFrontage'] = df['Lotfrontage_grouped']\n",
    "    df = df.drop(columns=['LotArea_bin','Lotfrontage_grouped']) \n",
    "    return df"
   ]
  },
  {
   "cell_type": "code",
   "execution_count": null,
   "metadata": {},
   "outputs": [],
   "source": [
    "# garage\n",
    "#df[['GarageType','GarageFinish','GarageQual','GarageCond']]\n",
    "\n",
    "# basement\n",
    "#df[['BsmtQual',\"BsmtCond\",\"BsmtExposure\",\"BsmtFinSF1\",\"BsmtFinSF2\",\"BsmtFinType1\",\"BsmtFinType2\"]]"
   ]
  },
  {
   "cell_type": "code",
   "execution_count": 11,
   "metadata": {},
   "outputs": [],
   "source": [
    "def computeMissingness(df):\n",
    "    total = df.isnull().sum().sort_values(ascending=False)\n",
    "    percent = (df.isnull().sum()/df.isnull().count()).sort_values(ascending=False)\n",
    "    missing_data = pd.concat([total, percent], axis=1, keys=['Total', 'Percent'])\n",
    "    # df.boxplot(column='LotFrontage',by='Neighborhood')\n",
    "    # plt.scatter(x=df.LotArea,y=df.LotFrontage)\n",
    "    return missing_data"
   ]
  },
  {
   "cell_type": "code",
   "execution_count": 14,
   "metadata": {},
   "outputs": [
    {
     "data": {
      "text/html": [
       "<div>\n",
       "<style scoped>\n",
       "    .dataframe tbody tr th:only-of-type {\n",
       "        vertical-align: middle;\n",
       "    }\n",
       "\n",
       "    .dataframe tbody tr th {\n",
       "        vertical-align: top;\n",
       "    }\n",
       "\n",
       "    .dataframe thead th {\n",
       "        text-align: right;\n",
       "    }\n",
       "</style>\n",
       "<table border=\"1\" class=\"dataframe\">\n",
       "  <thead>\n",
       "    <tr style=\"text-align: right;\">\n",
       "      <th></th>\n",
       "      <th>Total</th>\n",
       "      <th>Percent</th>\n",
       "    </tr>\n",
       "  </thead>\n",
       "  <tbody>\n",
       "    <tr>\n",
       "      <th>PoolQC</th>\n",
       "      <td>1456</td>\n",
       "      <td>0.997944</td>\n",
       "    </tr>\n",
       "    <tr>\n",
       "      <th>MiscFeature</th>\n",
       "      <td>1408</td>\n",
       "      <td>0.965045</td>\n",
       "    </tr>\n",
       "    <tr>\n",
       "      <th>Alley</th>\n",
       "      <td>1352</td>\n",
       "      <td>0.926662</td>\n",
       "    </tr>\n",
       "    <tr>\n",
       "      <th>Fence</th>\n",
       "      <td>1169</td>\n",
       "      <td>0.801234</td>\n",
       "    </tr>\n",
       "    <tr>\n",
       "      <th>FireplaceQu</th>\n",
       "      <td>730</td>\n",
       "      <td>0.500343</td>\n",
       "    </tr>\n",
       "  </tbody>\n",
       "</table>\n",
       "</div>"
      ],
      "text/plain": [
       "             Total   Percent\n",
       "PoolQC        1456  0.997944\n",
       "MiscFeature   1408  0.965045\n",
       "Alley         1352  0.926662\n",
       "Fence         1169  0.801234\n",
       "FireplaceQu    730  0.500343"
      ]
     },
     "execution_count": 14,
     "metadata": {},
     "output_type": "execute_result"
    }
   ],
   "source": [
    "computeMissingness(test).head()\n",
    "#computeMissingness(train).head()\n",
    "#computeMissingness(df).head()"
   ]
  },
  {
   "cell_type": "code",
   "execution_count": 22,
   "metadata": {
    "scrolled": true
   },
   "outputs": [
    {
     "data": {
      "text/html": [
       "<div>\n",
       "<style scoped>\n",
       "    .dataframe tbody tr th:only-of-type {\n",
       "        vertical-align: middle;\n",
       "    }\n",
       "\n",
       "    .dataframe tbody tr th {\n",
       "        vertical-align: top;\n",
       "    }\n",
       "\n",
       "    .dataframe thead th {\n",
       "        text-align: right;\n",
       "    }\n",
       "</style>\n",
       "<table border=\"1\" class=\"dataframe\">\n",
       "  <thead>\n",
       "    <tr style=\"text-align: right;\">\n",
       "      <th></th>\n",
       "      <th>Total</th>\n",
       "      <th>Percent</th>\n",
       "    </tr>\n",
       "  </thead>\n",
       "  <tbody>\n",
       "    <tr>\n",
       "      <th>SaleType</th>\n",
       "      <td>1</td>\n",
       "      <td>0.000685</td>\n",
       "    </tr>\n",
       "    <tr>\n",
       "      <th>Exterior1st</th>\n",
       "      <td>1</td>\n",
       "      <td>0.000685</td>\n",
       "    </tr>\n",
       "    <tr>\n",
       "      <th>Exterior2nd</th>\n",
       "      <td>1</td>\n",
       "      <td>0.000685</td>\n",
       "    </tr>\n",
       "    <tr>\n",
       "      <th>KitchenQual</th>\n",
       "      <td>1</td>\n",
       "      <td>0.000685</td>\n",
       "    </tr>\n",
       "    <tr>\n",
       "      <th>TotalBsmtSF</th>\n",
       "      <td>0</td>\n",
       "      <td>0.000000</td>\n",
       "    </tr>\n",
       "    <tr>\n",
       "      <th>RoofMatl</th>\n",
       "      <td>0</td>\n",
       "      <td>0.000000</td>\n",
       "    </tr>\n",
       "    <tr>\n",
       "      <th>MasVnrType</th>\n",
       "      <td>0</td>\n",
       "      <td>0.000000</td>\n",
       "    </tr>\n",
       "    <tr>\n",
       "      <th>MasVnrArea</th>\n",
       "      <td>0</td>\n",
       "      <td>0.000000</td>\n",
       "    </tr>\n",
       "    <tr>\n",
       "      <th>ExterQual</th>\n",
       "      <td>0</td>\n",
       "      <td>0.000000</td>\n",
       "    </tr>\n",
       "    <tr>\n",
       "      <th>ExterCond</th>\n",
       "      <td>0</td>\n",
       "      <td>0.000000</td>\n",
       "    </tr>\n",
       "  </tbody>\n",
       "</table>\n",
       "</div>"
      ],
      "text/plain": [
       "             Total   Percent\n",
       "SaleType         1  0.000685\n",
       "Exterior1st      1  0.000685\n",
       "Exterior2nd      1  0.000685\n",
       "KitchenQual      1  0.000685\n",
       "TotalBsmtSF      0  0.000000\n",
       "RoofMatl         0  0.000000\n",
       "MasVnrType       0  0.000000\n",
       "MasVnrArea       0  0.000000\n",
       "ExterQual        0  0.000000\n",
       "ExterCond        0  0.000000"
      ]
     },
     "execution_count": 22,
     "metadata": {},
     "output_type": "execute_result"
    }
   ],
   "source": [
    "# clean the data and compute the % of missingness to confirm\n",
    "cleaned = clean(test)\n",
    "computeMissingness(cleaned).head(10)"
   ]
  },
  {
   "cell_type": "markdown",
   "metadata": {},
   "source": [
    "### *~ Attempts to do the cleaning better; ignore for now ~*"
   ]
  },
  {
   "cell_type": "code",
   "execution_count": 31,
   "metadata": {},
   "outputs": [],
   "source": [
    "# Chi square test: if two categorical variables are independent\n",
    "# null: no association\n",
    "# detects a significant relationship between the variables\n",
    "\n",
    "import scipy.stats as stats\n",
    "\n",
    "def chi_sq(df,a,b):\n",
    "    tab = pd.crosstab(df[a],df[b],margins=True)\n",
    "    tab.columns = list(tab.columns[:-1])+[\"row_totals\"]\n",
    "    tab.index = list(tab.index[:-1])+[\"col_totals\"]\n",
    "    #tab\n",
    "    num_col = len(tab.columns)-1\n",
    "    num_ind = len(tab.index)-1\n",
    "    num_obs = len(df)\n",
    "    deg_f = (num_col-1) * (num_ind-1)\n",
    "    # observed and expected\n",
    "    observed = tab.iloc[:num_ind,:num_col]\n",
    "    expected = np.outer(tab[\"row_totals\"][:num_ind],tab.loc[\"col_totals\"][:num_col])/num_obs\n",
    "    expected = pd.DataFrame(expected)\n",
    "    expected.columns = list(tab.columns[:-1])\n",
    "    expected.index = list(tab.index[:-1])\n",
    "    # statistics\n",
    "    chi_squared_stat = (((observed-expected)**2)/expected).sum().sum()\n",
    "    print('chi squared stat: ',chi_squared_stat)\n",
    "    crit = stats.chi2.ppf(q = 0.95, # Find the critical value for 95% confidence*\n",
    "                          df = deg_f)   # *\n",
    "    print(\"Critical value: \",crit)\n",
    "    p_value = 1 - stats.chi2.cdf(x=chi_squared_stat,  # Find the p-value\n",
    "                                 df=deg_f)\n",
    "    print(\"P value: \",p_value)\n",
    "    chi2_stat, p_val, dof, ex = stats.chi2_contingency(observed= observed)\n",
    "    print(\"P-val from the package\",p_val)"
   ]
  },
  {
   "cell_type": "code",
   "execution_count": 32,
   "metadata": {},
   "outputs": [],
   "source": [
    "def append_noBsmt(df):\n",
    "    temp = df[['BsmtQual','BsmtCond','BsmtExposure','BsmtFinType1','BsmtFinSF1',\n",
    "                    'BsmtFinType2', 'BsmtFinSF2','BsmtUnfSF','TotalBsmtSF']]\n",
    "    temp[\"missingRows\"] = temp.isnull().sum(axis=1) > 0\n",
    "    bsmt_cat = temp.select_dtypes(include=['object'])\n",
    "    bsmt_num = temp.select_dtypes(exclude=['object']).drop('missingRows',axis=1)\n",
    "    bsmt_cat['cat_allnull'] = bsmt_cat.isnull().all(axis=1)\n",
    "    bsmt_num['num_all0'] = bsmt_num.isin([0]).all(axis=1)\n",
    "    bsmt = pd.concat((bsmt_cat, bsmt_num),axis=1).reset_index(drop=True)\n",
    "    df[\"noBsmt\"] = (bsmt[\"cat_allnull\"]==True) & (bsmt[\"num_all0\"]==True)\n",
    "    return df"
   ]
  },
  {
   "cell_type": "code",
   "execution_count": 33,
   "metadata": {},
   "outputs": [],
   "source": [
    "def append_noBsmt(df):\n",
    "    temp = df[['BsmtQual','BsmtCond','BsmtExposure','BsmtFinType1','BsmtFinSF1',\n",
    "                    'BsmtFinType2', 'BsmtFinSF2','BsmtUnfSF','TotalBsmtSF']]\n",
    "    temp[\"missingRows\"] = temp.isnull().sum(axis=1) > 0\n",
    "    bsmt_cat = temp.select_dtypes(include=['object'])\n",
    "    bsmt_num = temp.select_dtypes(exclude=['object']).drop('missingRows',axis=1)\n",
    "    bsmt_cat['cat_allnull'] = bsmt_cat.isnull().all(axis=1)\n",
    "    bsmt_num['num_all0'] = bsmt_num.isin([0]).all(axis=1)\n",
    "    bsmt = pd.concat((bsmt_cat, bsmt_num),axis=1).reset_index(drop=True)\n",
    "    df[\"noBsmt\"] = (bsmt[\"cat_allnull\"]==True) & (bsmt[\"num_all0\"]==True)\n",
    "    return df"
   ]
  },
  {
   "cell_type": "code",
   "execution_count": null,
   "metadata": {},
   "outputs": [],
   "source": [
    "####### tree imputation ###### "
   ]
  },
  {
   "cell_type": "code",
   "execution_count": null,
   "metadata": {},
   "outputs": [],
   "source": [
    "#### random forest imputation works for numerical \n",
    "from missingpy import MissForest\n",
    "\n",
    "#cat = df.select_dtypes(include=['object'])\n",
    "num = df.select_dtypes(exclude = [\"object\"]).drop('SalePrice', axis=1)\n",
    "num.isnull().fillna(float(\"NaN\"))\n",
    "imputer = MissForest(copy=True)\n",
    "num_imputed = imputer.fit_transform(num)\n",
    "num_imputed = pd.DataFrame(data=num_imputed, columns=num.columns)"
   ]
  },
  {
   "cell_type": "code",
   "execution_count": null,
   "metadata": {},
   "outputs": [],
   "source": [
    "# med= df.groupby(['LotArea_bin_mid'])['LotFrontage'].transform('median')\n",
    "# med\n",
    "df['LotFrontage_groupNeigh'] = df.groupby(['Neighborhood']).transform(lambda x: x.fillna(x.median()))"
   ]
  },
  {
   "cell_type": "code",
   "execution_count": null,
   "metadata": {},
   "outputs": [],
   "source": [
    "df['LotArea_bin_mid'] "
   ]
  },
  {
   "cell_type": "code",
   "execution_count": null,
   "metadata": {},
   "outputs": [],
   "source": [
    "df_num_imputed = df\n",
    "for col in num_imputed.columns:\n",
    "    df_num_imputed[col] = num_imputed[col]"
   ]
  },
  {
   "cell_type": "code",
   "execution_count": null,
   "metadata": {},
   "outputs": [],
   "source": [
    "total = df_num_imputed.isnull().sum().sort_values(ascending=False)\n",
    "percent = (df_num_imputed.isnull().sum()/df_num_imputed.isnull().count()).sort_values(ascending=False)\n",
    "missing_data = pd.concat([total, percent], axis=1, keys=['Total', 'Percent'])\n",
    "missing_data"
   ]
  },
  {
   "cell_type": "code",
   "execution_count": null,
   "metadata": {},
   "outputs": [],
   "source": [
    "# dummifying everything for the random forest imputation purposes\n",
    "\n",
    "cat_cols = df.select_dtypes(include=['object']).columns\n",
    "for col in cat_cols:\n",
    "    df = df.append(pd.get_dummies(df[col],prefix=col))\n",
    "    df = df.drop([col],axis=1)"
   ]
  },
  {
   "cell_type": "code",
   "execution_count": null,
   "metadata": {},
   "outputs": [],
   "source": [
    "# trying for all dataframe\n",
    "cat = df.select_dtypes(include=['object'])\n",
    "\n",
    "df = df[[\"SaleType\",\"SalePrice\"]]#df.drop('SalePrice', axis=1)\n",
    "df.isnull().fillna(float(\"NaN\"))\n",
    "imputer = MissForest(copy=True) \n",
    "df_imputed = imputer.fit(df,cat_vars=0) #[df.columns.get_loc(x) for x in cat]\n",
    "df_imputed = imputer.transform()\n",
    "df_imputed = pd.DataFrame(data=df_imputed, columns=df.columns)"
   ]
  },
  {
   "cell_type": "markdown",
   "metadata": {},
   "source": [
    "### Re-run missing data to see if there is any missing data "
   ]
  },
  {
   "cell_type": "code",
   "execution_count": null,
   "metadata": {},
   "outputs": [],
   "source": [
    "computemissingdata(df)\n",
    "# so we're all set!"
   ]
  },
  {
   "cell_type": "markdown",
   "metadata": {},
   "source": [
    "### Split data into categorical vs. numerical for easier analysis"
   ]
  },
  {
   "cell_type": "code",
   "execution_count": null,
   "metadata": {},
   "outputs": [],
   "source": [
    "# Differentiate numerical features (minus the target) and categorical features\n",
    "categorical_features = df.select_dtypes(include=['object']).columns\n",
    "print(categorical_features)\n",
    "numerical_features = df.select_dtypes(exclude = [\"object\"]).columns\n",
    "print(numerical_features)\n",
    "\n",
    "print(\"Numerical features : \" + str(len(numerical_features)))\n",
    "print(\"Categorical features : \" + str(len(categorical_features)))\n",
    "feat_num = df[numerical_features]\n",
    "feat_cat = df[categorical_features]"
   ]
  },
  {
   "cell_type": "markdown",
   "metadata": {},
   "source": [
    "## 4. Featuring engineering "
   ]
  },
  {
   "cell_type": "code",
   "execution_count": null,
   "metadata": {},
   "outputs": [],
   "source": [
    "#  Adding total sqfootage feature \n",
    "df['TotalSF']=df['TotalBsmtSF'] + df['1stFlrSF'] + df['2ndFlrSF']\n",
    "\n",
    "#  Adding total bathrooms feature\n",
    "df['Total_Bathrooms'] = (df['FullBath'] + (0.5 * df['HalfBath']) +\n",
    "                               df['BsmtFullBath'] + (0.5 * df['BsmtHalfBath']))\n",
    "\n",
    "#  Adding total porch sqfootage feature\n",
    "df['Total_porch_sf'] = (df['OpenPorchSF'] + df['3SsnPorch'] +\n",
    "                              df['EnclosedPorch'] + df['ScreenPorch'] +\n",
    "                              df['WoodDeckSF'])"
   ]
  },
  {
   "cell_type": "code",
   "execution_count": null,
   "metadata": {},
   "outputs": [],
   "source": [
    "# Make new indicator variable (present =1, not present = 0)\n",
    "df['haspool'] = df['PoolArea'].apply(lambda x: 1 if x > 0 else 0)\n",
    "df['hasgarage'] = df['GarageArea'].apply(lambda x: 1 if x > 0 else 0)\n",
    "df['hasbsmt'] = df['TotalBsmtSF'].apply(lambda x: 1 if x > 0 else 0)\n",
    "df['hasfireplace'] = df['Fireplaces'].apply(lambda x: 1 if x > 0 else 0)"
   ]
  },
  {
   "cell_type": "code",
   "execution_count": null,
   "metadata": {},
   "outputs": [],
   "source": [
    "### Heatmap of sales price vs. 15 variables with top correlation \n",
    "# saleprice correlation matrix\n",
    "\n",
    "corr_num = 15 #number of variables for heatmap\n",
    "cols_corr = corrmat.nlargest(corr_num, 'SalePrice')['SalePrice'].index\n",
    "corr_mat_sales = np.corrcoef(train[cols_corr].values.T)\n",
    "sns.set(font_scale=1.25)\n",
    "f, ax = plt.subplots(figsize=(12, 9))\n",
    "hm = sns.heatmap(corr_mat_sales, cbar=True, annot=True, square=True, fmt='.2f', annot_kws={'size': 7}, yticklabels=cols_corr.values, xticklabels=cols_corr.values)\n",
    "plt.show()"
   ]
  }
 ],
 "metadata": {
  "kernelspec": {
   "display_name": "Python 3",
   "language": "python",
   "name": "python3"
  },
  "language_info": {
   "codemirror_mode": {
    "name": "ipython",
    "version": 3
   },
   "file_extension": ".py",
   "mimetype": "text/x-python",
   "name": "python",
   "nbconvert_exporter": "python",
   "pygments_lexer": "ipython3",
   "version": "3.7.3"
  }
 },
 "nbformat": 4,
 "nbformat_minor": 2
}
