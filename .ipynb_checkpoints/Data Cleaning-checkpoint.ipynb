{
 "cells": [
  {
   "cell_type": "code",
   "execution_count": null,
   "metadata": {},
   "outputs": [],
   "source": [
    "import pandas as pd\n",
    "import numpy as np\n",
    "import matplotlib.pyplot as plt\n",
    "import re\n",
    "import seaborn as sns\n",
    "from scipy.stats import norm\n",
    "from scipy.stats import skew\n",
    "from scipy.special import boxcox1p\n",
    "from scipy.stats import boxcox_normmax\n",
    "from sklearn.preprocessing import StandardScaler\n",
    "from scipy import stats\n",
    "\n",
    "train = pd.read_csv('./data/train.csv')\n",
    "test = pd.read_csv('./data/test.csv')\n",
    "train_ID = train['Id']\n",
    "test_ID = test['Id']\n",
    "train.drop(\"Id\", axis = 1, inplace = True)\n",
    "test.drop(\"Id\", axis = 1, inplace = True)\n",
    "\n",
    "# df is the merged dataset (train + test)\n",
    "df = pd.concat((train, test)).reset_index(drop=True)"
   ]
  },
  {
   "cell_type": "markdown",
   "metadata": {},
   "source": [
    "## 2. Overall EDA (Distribution by variable)"
   ]
  },
  {
   "cell_type": "code",
   "execution_count": null,
   "metadata": {},
   "outputs": [],
   "source": [
    "# helper function to visualize distribution\n",
    "def visdist(df,col):\n",
    "    plt.subplot(1, 2, 1)\n",
    "    plt.hist(df[col])\n",
    "    plt.subplot(1, 2, 2)\n",
    "    plt.scatter(df[col],df['SalePrice'])\n",
    "    plt.tight_layout()\n",
    "    plt.show()\n",
    "    \n",
    "cat_colnames = df.select_dtypes(include=['object']).columns\n",
    "#print(cat_colnames, len(cat_colnames))\n",
    "num_colnames = df.select_dtypes(exclude = [\"object\"]).columns\n",
    "#print(num_colnames,len(num_colnames))"
   ]
  },
  {
   "cell_type": "markdown",
   "metadata": {},
   "source": [
    "## 3. Data Cleaning: Missing Value Imputation"
   ]
  },
  {
   "cell_type": "code",
   "execution_count": 1,
   "metadata": {},
   "outputs": [],
   "source": [
    "def clean(df):\n",
    "    # **** what to do with Year and Month?\n",
    "    for var in ['MSSubClass']:\n",
    "        # later on, change to the actual string values\n",
    "        df[var] = df[var].apply(str)\n",
    "        \n",
    "    # no garage, no bathrooms, etc., based on data description?  \n",
    "    for col in ('GarageYrBlt', 'GarageArea', 'GarageCars','MasVnrArea','BsmtFinSF1','BsmtFinSF2'\n",
    "           ,'BsmtFullBath','BsmtHalfBath','FullBath','HalfBath','BsmtUnfSF','TotalBsmtSF'):\n",
    "        df[col] = df[col].fillna(0).astype(int)\n",
    "        \n",
    "    # Replacing missing data with None, based on data description\n",
    "    for col in ['GarageType', 'GarageFinish', 'GarageQual', 'GarageCond','BsmtQual',\n",
    "            'BsmtCond', 'BsmtExposure', 'BsmtFinType1', 'BsmtFinType2',\"PoolQC\"\n",
    "           ,'Alley','Fence','MiscFeature','FireplaceQu','MasVnrType','Utilities']:\n",
    "        df[col] = df[col].fillna('None')\n",
    "            \n",
    "    # Home functionality (Assume typical unless deductions are warranted): \n",
    "    # data description says NA means typical\n",
    "    df['Functional'] = df['Functional'].fillna('Typ')\n",
    "    \n",
    "    # lot frontage: correlated with lot area (0.48) and neighborhoods (domain expertise)\n",
    "    df = cleanLotFrontage(df)\n",
    "\n",
    "    # ****** MSZoning, grouped by MSSubClass but I'm not exactly sure this is valid\n",
    "    # did chi square test, wasn't too helpful, so many other categorical variables associated as much\n",
    "    df['MSZoning'] = df.groupby('MSSubClass')['MSZoning'].transform(lambda x: x.fillna(x.mode()[0]))\n",
    "    \n",
    "    common_vars = ['Exterior1st','Exterior2nd','SaleType','Electrical','KitchenQual']\n",
    "    for var in common_vars:\n",
    "        df[var] = df[var].fillna(df[var].mode()[0])\n",
    "    \n",
    "    return df\n",
    "\n",
    "def cleanLotFrontage(df):\n",
    "    df['LotArea_bin'] = pd.cut(df['LotArea'],50).apply(lambda x: x.mid)\n",
    "    df['Lotfrontage_grouped'] = df.groupby(['Neighborhood','LotArea_bin'])['LotFrontage'].transform(lambda x: x.fillna(x.median()))\n",
    "    df['Lotfrontage_grouped'] = df.groupby(['Neighborhood'])['LotFrontage'].transform(lambda x: x.fillna(x.median()))\n",
    "    #df['LotFrontage_neigh'] = df.groupby('Neighborhood')['LotFrontage'].transform(lambda x: x.fillna(x.median()))\n",
    "    #df['LotFrontage_lotarea'] = df.groupby('LotArea')['LotFrontage'].transform(lambda x: x.fillna(x.median()))\n",
    "    df['LotFrontage'] = df['Lotfrontage_grouped']\n",
    "    df = df.drop(columns=['LotArea_bin','Lotfrontage_grouped']) \n",
    "    return df"
   ]
  },
  {
   "cell_type": "code",
   "execution_count": 2,
   "metadata": {},
   "outputs": [],
   "source": [
    "def computeMissingness(df):\n",
    "    total = df.isnull().sum().sort_values(ascending=False)\n",
    "    percent = (df.isnull().sum()/df.isnull().count()).sort_values(ascending=False)\n",
    "    missing_data = pd.concat([total, percent], axis=1, keys=['Total', 'Percent'])\n",
    "    # df.boxplot(column='LotFrontage',by='Neighborhood')\n",
    "    # plt.scatter(x=df.LotArea,y=df.LotFrontage)\n",
    "    return missing_data"
   ]
  },
  {
   "cell_type": "code",
   "execution_count": null,
   "metadata": {},
   "outputs": [],
   "source": [
    "# clean the data and compute the % of missingness to confirm\n",
    "cleaned = clean(test)\n",
    "computeMissingness(cleaned).head(10)"
   ]
  },
  {
   "cell_type": "markdown",
   "metadata": {},
   "source": [
    "### Re-run missing data to see if there is any missing data "
   ]
  },
  {
   "cell_type": "code",
   "execution_count": null,
   "metadata": {},
   "outputs": [],
   "source": [
    "computemissingdata(df)\n",
    "# so we're all set!"
   ]
  },
  {
   "cell_type": "markdown",
   "metadata": {},
   "source": [
    "## 4. Featuring engineering "
   ]
  },
  {
   "cell_type": "code",
   "execution_count": null,
   "metadata": {},
   "outputs": [],
   "source": [
    "#  Adding total sqfootage feature \n",
    "df['TotalSF']=df['TotalBsmtSF'] + df['1stFlrSF'] + df['2ndFlrSF']\n",
    "\n",
    "#  Adding total bathrooms feature\n",
    "df['Total_Bathrooms'] = (df['FullBath'] + (0.5 * df['HalfBath']) +\n",
    "                               df['BsmtFullBath'] + (0.5 * df['BsmtHalfBath']))\n",
    "\n",
    "#  Adding total porch sqfootage feature\n",
    "df['Total_porch_sf'] = (df['OpenPorchSF'] + df['3SsnPorch'] +\n",
    "                              df['EnclosedPorch'] + df['ScreenPorch'] +\n",
    "                              df['WoodDeckSF'])"
   ]
  },
  {
   "cell_type": "code",
   "execution_count": null,
   "metadata": {},
   "outputs": [],
   "source": [
    "#  Adding total sqfootage feature \n",
    "df['TotalSF']=df['TotalBsmtSF'] + df['1stFlrSF'] + df['2ndFlrSF']\n",
    "\n",
    "#  Adding total bathrooms feature\n",
    "df['Total_Bathrooms'] = (df['FullBath'] + (0.5 * df['HalfBath']) +\n",
    "                               df['BsmtFullBath'] + (0.5 * df['BsmtHalfBath']))\n",
    "\n",
    "#  Adding total porch sqfootage feature\n",
    "df['Total_porch_sf'] = (df['OpenPorchSF'] + df['3SsnPorch'] +\n",
    "                              df['EnclosedPorch'] + df['ScreenPorch'] +\n",
    "                              df['WoodDeckSF'])"
   ]
  },
  {
   "cell_type": "code",
   "execution_count": null,
   "metadata": {},
   "outputs": [],
   "source": [
    "#  Adding total sqfootage feature \n",
    "df['TotalSF']=df['TotalBsmtSF'] + df['1stFlrSF'] + df['2ndFlrSF']\n",
    "\n",
    "#  Adding total bathrooms feature\n",
    "df['Total_Bathrooms'] = (df['FullBath'] + (0.5 * df['HalfBath']) +\n",
    "                               df['BsmtFullBath'] + (0.5 * df['BsmtHalfBath']))\n",
    "\n",
    "#  Adding total porch sqfootage feature\n",
    "df['Total_porch_sf'] = (df['OpenPorchSF'] + df['3SsnPorch'] +\n",
    "                              df['EnclosedPorch'] + df['ScreenPorch'] +\n",
    "                              df['WoodDeckSF'])"
   ]
  }
 ],
 "metadata": {
  "kernelspec": {
   "display_name": "Python 3",
   "language": "python",
   "name": "python3"
  },
  "language_info": {
   "codemirror_mode": {
    "name": "ipython",
    "version": 3
   },
   "file_extension": ".py",
   "mimetype": "text/x-python",
   "name": "python",
   "nbconvert_exporter": "python",
   "pygments_lexer": "ipython3",
   "version": "3.7.3"
  }
 },
 "nbformat": 4,
 "nbformat_minor": 2
}
