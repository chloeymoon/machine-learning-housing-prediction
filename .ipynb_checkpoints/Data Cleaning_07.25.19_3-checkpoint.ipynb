{
 "cells": [
  {
   "cell_type": "code",
   "execution_count": 1,
   "metadata": {},
   "outputs": [
    {
     "name": "stderr",
     "output_type": "stream",
     "text": [
      "C:\\Users\\mcui1\\Anaconda3\\lib\\site-packages\\ipykernel_launcher.py:21: FutureWarning: Sorting because non-concatenation axis is not aligned. A future version\n",
      "of pandas will change to not sort by default.\n",
      "\n",
      "To accept the future behavior, pass 'sort=False'.\n",
      "\n",
      "To retain the current behavior and silence the warning, pass 'sort=True'.\n",
      "\n"
     ]
    }
   ],
   "source": [
    "import pandas as pd\n",
    "import numpy as np\n",
    "import matplotlib.pyplot as plt\n",
    "import re\n",
    "import seaborn as sns\n",
    "from scipy.stats import norm\n",
    "from scipy.stats import skew\n",
    "from scipy.special import boxcox1p\n",
    "from scipy.stats import boxcox_normmax\n",
    "from sklearn.preprocessing import StandardScaler\n",
    "from scipy import stats\n",
    "\n",
    "train = pd.read_csv('./data/train.csv')\n",
    "test = pd.read_csv('./data/test.csv')\n",
    "train_ID = train['Id']\n",
    "test_ID = test['Id']\n",
    "train.drop(\"Id\", axis = 1, inplace = True)\n",
    "test.drop(\"Id\", axis = 1, inplace = True)\n",
    "\n",
    "# df is the merged dataset (train + test)\n",
    "df = pd.concat((train, test)).reset_index(drop=True)"
   ]
  },
  {
   "cell_type": "markdown",
   "metadata": {},
   "source": [
    "## 2. Overall EDA (Distribution by variable)"
   ]
  },
  {
   "cell_type": "code",
   "execution_count": 2,
   "metadata": {},
   "outputs": [],
   "source": [
    "# helper function to visualize distribution\n",
    "def visdist(df,col):\n",
    "    plt.subplot(1, 2, 1)\n",
    "    plt.hist(df[col])\n",
    "    plt.subplot(1, 2, 2)\n",
    "    plt.scatter(df[col],df['SalePrice'])\n",
    "    plt.tight_layout()\n",
    "    plt.show()\n",
    "    \n",
    "cat_colnames = df.select_dtypes(include=['object']).columns\n",
    "#print(cat_colnames, len(cat_colnames))\n",
    "num_colnames = df.select_dtypes(exclude = [\"object\"]).columns\n",
    "#print(num_colnames,len(num_colnames))"
   ]
  },
  {
   "cell_type": "markdown",
   "metadata": {},
   "source": [
    "## 3. Data Cleaning: Missing Value Imputation"
   ]
  },
  {
   "cell_type": "code",
   "execution_count": 3,
   "metadata": {},
   "outputs": [],
   "source": [
    "def clean(df):\n",
    "    # **** what to do with Year and Month?\n",
    "    for var in ['MSSubClass']:\n",
    "        # later on, change to the actual string values\n",
    "        df[var] = df[var].apply(str)\n",
    "        \n",
    "    # no garage, no bathrooms, etc., based on data description?  \n",
    "    for col in ('GarageYrBlt', 'GarageArea', 'GarageCars','MasVnrArea','BsmtFinSF1','BsmtFinSF2'\n",
    "           ,'BsmtFullBath','BsmtHalfBath','FullBath','HalfBath','BsmtUnfSF','TotalBsmtSF'):\n",
    "        df[col] = df[col].fillna(0).astype(int)\n",
    "        \n",
    "    # Replacing missing data with None, based on data description\n",
    "    for col in ['GarageType', 'GarageFinish', 'GarageQual', 'GarageCond','BsmtQual',\n",
    "            'BsmtCond', 'BsmtExposure', 'BsmtFinType1', 'BsmtFinType2',\"PoolQC\"\n",
    "           ,'Alley','Fence','MiscFeature','FireplaceQu','MasVnrType','Utilities']:\n",
    "        df[col] = df[col].fillna('None')\n",
    "            \n",
    "    # Home functionality (Assume typical unless deductions are warranted): \n",
    "    # data description says NA means typical\n",
    "    df['Functional'] = df['Functional'].fillna('Typ')\n",
    "    \n",
    "    # lot frontage: correlated with lot area (0.48) and neighborhoods (domain expertise)\n",
    "    df = cleanLotFrontage(df)\n",
    "\n",
    "    # ****** MSZoning, grouped by MSSubClass but I'm not exactly sure this is valid\n",
    "    # did chi square test, wasn't too helpful, so many other categorical variables associated as much\n",
    "    df['MSZoning'] = df.groupby('MSSubClass')['MSZoning'].transform(lambda x: x.fillna(x.mode()[0]))\n",
    "    \n",
    "    common_vars = ['Exterior1st','Exterior2nd','SaleType','Electrical','KitchenQual']\n",
    "    for var in common_vars:\n",
    "        df[var] = df[var].fillna(df[var].mode()[0])\n",
    "    \n",
    "    return df\n",
    "\n",
    "def cleanLotFrontage(df):\n",
    "    df['LotArea_bin'] = pd.cut(df['LotArea'],50).apply(lambda x: x.mid)\n",
    "    df['Lotfrontage_grouped'] = df.groupby(['Neighborhood','LotArea_bin'])['LotFrontage'].transform(lambda x: x.fillna(x.median()))\n",
    "    df['Lotfrontage_grouped'] = df.groupby(['Neighborhood'])['LotFrontage'].transform(lambda x: x.fillna(x.median()))\n",
    "    #df['LotFrontage_neigh'] = df.groupby('Neighborhood')['LotFrontage'].transform(lambda x: x.fillna(x.median()))\n",
    "    #df['LotFrontage_lotarea'] = df.groupby('LotArea')['LotFrontage'].transform(lambda x: x.fillna(x.median()))\n",
    "    df['LotFrontage'] = df['Lotfrontage_grouped']\n",
    "    df = df.drop(columns=['LotArea_bin','Lotfrontage_grouped']) \n",
    "    return df"
   ]
  },
  {
   "cell_type": "code",
   "execution_count": 4,
   "metadata": {},
   "outputs": [],
   "source": [
    "def computeMissingness(df):\n",
    "    total = df.isnull().sum().sort_values(ascending=False)\n",
    "    percent = (df.isnull().sum()/df.isnull().count()).sort_values(ascending=False)\n",
    "    missing_data = pd.concat([total, percent], axis=1, keys=['Total', 'Percent'])\n",
    "    # df.boxplot(column='LotFrontage',by='Neighborhood')\n",
    "    # plt.scatter(x=df.LotArea,y=df.LotFrontage)\n",
    "    return missing_data"
   ]
  },
  {
   "cell_type": "code",
   "execution_count": 5,
   "metadata": {},
   "outputs": [
    {
     "data": {
      "text/html": [
       "<div>\n",
       "<style scoped>\n",
       "    .dataframe tbody tr th:only-of-type {\n",
       "        vertical-align: middle;\n",
       "    }\n",
       "\n",
       "    .dataframe tbody tr th {\n",
       "        vertical-align: top;\n",
       "    }\n",
       "\n",
       "    .dataframe thead th {\n",
       "        text-align: right;\n",
       "    }\n",
       "</style>\n",
       "<table border=\"1\" class=\"dataframe\">\n",
       "  <thead>\n",
       "    <tr style=\"text-align: right;\">\n",
       "      <th></th>\n",
       "      <th>Total</th>\n",
       "      <th>Percent</th>\n",
       "    </tr>\n",
       "  </thead>\n",
       "  <tbody>\n",
       "    <tr>\n",
       "      <th>SalePrice</th>\n",
       "      <td>1459</td>\n",
       "      <td>0.499829</td>\n",
       "    </tr>\n",
       "    <tr>\n",
       "      <th>Electrical</th>\n",
       "      <td>0</td>\n",
       "      <td>0.000000</td>\n",
       "    </tr>\n",
       "    <tr>\n",
       "      <th>ExterCond</th>\n",
       "      <td>0</td>\n",
       "      <td>0.000000</td>\n",
       "    </tr>\n",
       "    <tr>\n",
       "      <th>ExterQual</th>\n",
       "      <td>0</td>\n",
       "      <td>0.000000</td>\n",
       "    </tr>\n",
       "    <tr>\n",
       "      <th>Exterior1st</th>\n",
       "      <td>0</td>\n",
       "      <td>0.000000</td>\n",
       "    </tr>\n",
       "    <tr>\n",
       "      <th>Exterior2nd</th>\n",
       "      <td>0</td>\n",
       "      <td>0.000000</td>\n",
       "    </tr>\n",
       "    <tr>\n",
       "      <th>Fence</th>\n",
       "      <td>0</td>\n",
       "      <td>0.000000</td>\n",
       "    </tr>\n",
       "    <tr>\n",
       "      <th>FireplaceQu</th>\n",
       "      <td>0</td>\n",
       "      <td>0.000000</td>\n",
       "    </tr>\n",
       "    <tr>\n",
       "      <th>Fireplaces</th>\n",
       "      <td>0</td>\n",
       "      <td>0.000000</td>\n",
       "    </tr>\n",
       "    <tr>\n",
       "      <th>Foundation</th>\n",
       "      <td>0</td>\n",
       "      <td>0.000000</td>\n",
       "    </tr>\n",
       "  </tbody>\n",
       "</table>\n",
       "</div>"
      ],
      "text/plain": [
       "             Total   Percent\n",
       "SalePrice     1459  0.499829\n",
       "Electrical       0  0.000000\n",
       "ExterCond        0  0.000000\n",
       "ExterQual        0  0.000000\n",
       "Exterior1st      0  0.000000\n",
       "Exterior2nd      0  0.000000\n",
       "Fence            0  0.000000\n",
       "FireplaceQu      0  0.000000\n",
       "Fireplaces       0  0.000000\n",
       "Foundation       0  0.000000"
      ]
     },
     "execution_count": 5,
     "metadata": {},
     "output_type": "execute_result"
    }
   ],
   "source": [
    "# clean the data and compute the % of missingness to confirm\n",
    "df = clean(df)\n",
    "computeMissingness(df).head(10)"
   ]
  },
  {
   "cell_type": "code",
   "execution_count": 6,
   "metadata": {},
   "outputs": [],
   "source": [
    "#  Adding total sqfootage feature \n",
    "df['TotalSF']=df['TotalBsmtSF'] + df['1stFlrSF'] + df['2ndFlrSF']\n",
    "\n",
    "#  Adding total bathrooms feature\n",
    "df['Total_Bathrooms'] = (df['FullBath'] + (0.5 * df['HalfBath']) +\n",
    "                               df['BsmtFullBath'] + (0.5 * df['BsmtHalfBath']))\n",
    "\n",
    "#  Adding total porch sqfootage feature\n",
    "df['Total_porch_sf'] = (df['OpenPorchSF'] + df['3SsnPorch'] +\n",
    "                              df['EnclosedPorch'] + df['ScreenPorch'] +\n",
    "                              df['WoodDeckSF'])"
   ]
  },
  {
   "cell_type": "code",
   "execution_count": 7,
   "metadata": {},
   "outputs": [
    {
     "name": "stdout",
     "output_type": "stream",
     "text": [
      "Index(['Alley', 'BldgType', 'BsmtCond', 'BsmtExposure', 'BsmtFinType1',\n",
      "       'BsmtFinType2', 'BsmtQual', 'CentralAir', 'Condition1', 'Condition2',\n",
      "       'Electrical', 'ExterCond', 'ExterQual', 'Exterior1st', 'Exterior2nd',\n",
      "       'Fence', 'FireplaceQu', 'Foundation', 'Functional', 'GarageCond',\n",
      "       'GarageFinish', 'GarageQual', 'GarageType', 'Heating', 'HeatingQC',\n",
      "       'HouseStyle', 'KitchenQual', 'LandContour', 'LandSlope', 'LotConfig',\n",
      "       'LotShape', 'MSSubClass', 'MSZoning', 'MasVnrType', 'MiscFeature',\n",
      "       'Neighborhood', 'PavedDrive', 'PoolQC', 'RoofMatl', 'RoofStyle',\n",
      "       'SaleCondition', 'SaleType', 'Street', 'Utilities'],\n",
      "      dtype='object')\n",
      "Index(['1stFlrSF', '2ndFlrSF', '3SsnPorch', 'BedroomAbvGr', 'BsmtFinSF1',\n",
      "       'BsmtFinSF2', 'BsmtFullBath', 'BsmtHalfBath', 'BsmtUnfSF',\n",
      "       'EnclosedPorch', 'Fireplaces', 'FullBath', 'GarageArea', 'GarageCars',\n",
      "       'GarageYrBlt', 'GrLivArea', 'HalfBath', 'KitchenAbvGr', 'LotArea',\n",
      "       'LotFrontage', 'LowQualFinSF', 'MasVnrArea', 'MiscVal', 'MoSold',\n",
      "       'OpenPorchSF', 'OverallCond', 'OverallQual', 'PoolArea', 'SalePrice',\n",
      "       'ScreenPorch', 'TotRmsAbvGrd', 'TotalBsmtSF', 'WoodDeckSF', 'YearBuilt',\n",
      "       'YearRemodAdd', 'YrSold', 'TotalSF', 'Total_Bathrooms',\n",
      "       'Total_porch_sf'],\n",
      "      dtype='object')\n",
      "Numerical features : 39\n",
      "Categorical features : 44\n"
     ]
    }
   ],
   "source": [
    "categorical_features = df.select_dtypes(include=['object']).columns\n",
    "print(categorical_features)\n",
    "numerical_features = df.select_dtypes(exclude = [\"object\"]).columns\n",
    "print(numerical_features)\n",
    "\n",
    "print(\"Numerical features : \" + str(len(numerical_features)))\n",
    "print(\"Categorical features : \" + str(len(categorical_features)))\n",
    "feat_num = df[numerical_features]\n",
    "feat_cat = df[categorical_features]"
   ]
  },
  {
   "cell_type": "code",
   "execution_count": 8,
   "metadata": {},
   "outputs": [
    {
     "name": "stdout",
     "output_type": "stream",
     "text": [
      "There are 29 skewed numerical features to Box Cox transform\n",
      "Mean skewnees: 3.8905513337095416\n"
     ]
    },
    {
     "data": {
      "text/plain": [
       "MiscVal           21.947195\n",
       "PoolArea          16.898328\n",
       "LotArea           12.822431\n",
       "LowQualFinSF      12.088761\n",
       "3SsnPorch         11.376065\n",
       "KitchenAbvGr       4.302254\n",
       "BsmtFinSF2         4.146143\n",
       "EnclosedPorch      4.003891\n",
       "ScreenPorch        3.946694\n",
       "BsmtHalfBath       3.931594\n",
       "MasVnrArea         2.613592\n",
       "OpenPorchSF        2.535114\n",
       "WoodDeckSF         1.842433\n",
       "TotalSF            1.511479\n",
       "LotFrontage        1.505704\n",
       "1stFlrSF           1.469604\n",
       "BsmtFinSF1         1.425230\n",
       "Total_porch_sf     1.376649\n",
       "GrLivArea          1.269358\n",
       "TotalBsmtSF        1.156894\n",
       "BsmtUnfSF          0.919339\n",
       "2ndFlrSF           0.861675\n",
       "TotRmsAbvGrd       0.758367\n",
       "Fireplaces         0.733495\n",
       "HalfBath           0.694566\n",
       "BsmtFullBath       0.624832\n",
       "OverallCond        0.570312\n",
       "YearBuilt         -0.599806\n",
       "GarageYrBlt       -3.906205\n",
       "dtype: float64"
      ]
     },
     "execution_count": 8,
     "metadata": {},
     "output_type": "execute_result"
    }
   ],
   "source": [
    "# we need to transform those numerical features where skewness is > 0.5\n",
    "# abs(skewness)>1  highly sknewed \n",
    "# 1 > abs(skewness) > 0.5 moderately sknewed\n",
    "# we are taking the conservative approach and adjusting for moderately skewed \n",
    "\n",
    "skewness = feat_num.apply(lambda x: skew(x))\n",
    "skewness = skewness[abs(skewness) > 0.5]\n",
    "print(\"There are {} skewed numerical features to Box Cox transform\".format(skewness.shape[0]))\n",
    "print(\"Mean skewnees: {}\".format(np.mean(skewness)))\n",
    "\n",
    "from scipy.stats import skew \n",
    "skewness.sort_values(ascending=False)"
   ]
  },
  {
   "cell_type": "code",
   "execution_count": 9,
   "metadata": {},
   "outputs": [
    {
     "name": "stderr",
     "output_type": "stream",
     "text": [
      "C:\\Users\\mcui1\\AppData\\Roaming\\Python\\Python36\\site-packages\\scipy\\stats\\stats.py:3399: PearsonRConstantInputWarning: An input array is constant; the correlation coefficent is not defined.\n",
      "  warnings.warn(PearsonRConstantInputWarning())\n",
      "C:\\Users\\mcui1\\Anaconda3\\lib\\site-packages\\ipykernel_launcher.py:5: SettingWithCopyWarning: \n",
      "A value is trying to be set on a copy of a slice from a DataFrame.\n",
      "Try using .loc[row_indexer,col_indexer] = value instead\n",
      "\n",
      "See the caveats in the documentation: http://pandas.pydata.org/pandas-docs/stable/user_guide/indexing.html#returning-a-view-versus-a-copy\n",
      "  \"\"\"\n",
      "C:\\Users\\mcui1\\AppData\\Roaming\\Python\\Python36\\site-packages\\scipy\\stats\\stats.py:3429: PearsonRNearConstantInputWarning: An input array is nearly constant; the computed correlation coefficent may be inaccurate.\n",
      "  warnings.warn(PearsonRNearConstantInputWarning())\n"
     ]
    },
    {
     "name": "stdout",
     "output_type": "stream",
     "text": [
      "There are 17 skewed numerical features after Box Cox transform\n",
      "Mean skewnees: 3.465448337560018\n"
     ]
    },
    {
     "data": {
      "text/plain": [
       "PoolArea         14.985994\n",
       "3SsnPorch         8.865144\n",
       "LowQualFinSF      8.495602\n",
       "MiscVal           5.239894\n",
       "BsmtHalfBath      3.780960\n",
       "KitchenAbvGr      3.779896\n",
       "ScreenPorch       3.153911\n",
       "BsmtFinSF2        2.579468\n",
       "EnclosedPorch     2.150157\n",
       "MasVnrArea        0.976354\n",
       "2ndFlrSF          0.894536\n",
       "WoodDeckSF        0.784768\n",
       "HalfBath          0.730771\n",
       "GarageYrBlt       0.701201\n",
       "OpenPorchSF       0.621025\n",
       "BsmtFullBath      0.618419\n",
       "Fireplaces        0.554522\n",
       "dtype: float64"
      ]
     },
     "execution_count": 9,
     "metadata": {},
     "output_type": "execute_result"
    }
   ],
   "source": [
    "from scipy.special import boxcox1p\n",
    "skewed_features = skewness.index\n",
    "lam = 0.15\n",
    "for feat in skewed_features:\n",
    "    feat_num[feat] = boxcox1p(feat_num[feat], boxcox_normmax(feat_num[feat] + 1))\n",
    "    df[feat] = boxcox1p(df[feat], boxcox_normmax(df[feat] + 1))\n",
    "    \n",
    "skewness = feat_num.apply(lambda x: skew(x))\n",
    "skewness = skewness[abs(skewness) > 0.5]\n",
    "\n",
    "print(\"There are {} skewed numerical features after Box Cox transform\".format(skewness.shape[0]))\n",
    "print(\"Mean skewnees: {}\".format(np.mean(skewness)))\n",
    "skewness.sort_values(ascending=False)"
   ]
  },
  {
   "cell_type": "markdown",
   "metadata": {},
   "source": [
    "### Dummify "
   ]
  },
  {
   "cell_type": "code",
   "execution_count": 10,
   "metadata": {},
   "outputs": [],
   "source": [
    "df = df.drop(\"SalePrice\", axis = 1)\n",
    "final_features = pd.get_dummies(df)"
   ]
  },
  {
   "cell_type": "code",
   "execution_count": 11,
   "metadata": {},
   "outputs": [],
   "source": [
    "# Apply transformation\n",
    "train.SalePrice = np.log1p(train.SalePrice)\n",
    "\n",
    "# New prediction\n",
    "y_train = train.SalePrice.values\n",
    "y_train_orig = train.SalePrice"
   ]
  },
  {
   "cell_type": "code",
   "execution_count": 12,
   "metadata": {},
   "outputs": [
    {
     "name": "stdout",
     "output_type": "stream",
     "text": [
      "(2919, 321)\n",
      "(1460, 321) (1460,) (1459, 321)\n"
     ]
    }
   ],
   "source": [
    "print(final_features.shape)\n",
    "X = final_features.iloc[:len(y_train), :]\n",
    "X_test = final_features.iloc[len(y_train):, :]\n",
    "X.shape, y_train.shape, X_test.shape\n",
    "\n",
    "\n",
    "print(X.shape,y_train.shape,X_test.shape)"
   ]
  },
  {
   "cell_type": "markdown",
   "metadata": {},
   "source": [
    "### Re-run missing data to see if there is any missing data "
   ]
  },
  {
   "cell_type": "code",
   "execution_count": 13,
   "metadata": {},
   "outputs": [],
   "source": [
    "# computemissingdata(df)\n",
    "# # so we're all set!"
   ]
  },
  {
   "cell_type": "code",
   "execution_count": null,
   "metadata": {},
   "outputs": [],
   "source": []
  },
  {
   "cell_type": "code",
   "execution_count": null,
   "metadata": {},
   "outputs": [],
   "source": []
  },
  {
   "cell_type": "markdown",
   "metadata": {},
   "source": [
    "### Modeling "
   ]
  },
  {
   "cell_type": "code",
   "execution_count": 14,
   "metadata": {},
   "outputs": [],
   "source": [
    "from datetime import datetime\n",
    "from sklearn.preprocessing import RobustScaler\n",
    "from sklearn.model_selection import KFold, cross_val_score\n",
    "from sklearn.metrics import mean_squared_error , make_scorer\n",
    "from sklearn.linear_model import ElasticNetCV, LassoCV, RidgeCV\n",
    "from sklearn.pipeline import make_pipeline\n",
    "from sklearn.linear_model import LinearRegression\n",
    "\n",
    "from sklearn.ensemble import GradientBoostingRegressor\n",
    "# from sklearn.svm import SVR\n",
    "from mlxtend.regressor import StackingCVRegressor\n",
    "from sklearn.linear_model import LinearRegression\n",
    "\n",
    "from xgboost import XGBRegressor\n",
    "from lightgbm import LGBMRegressor"
   ]
  },
  {
   "cell_type": "code",
   "execution_count": 15,
   "metadata": {},
   "outputs": [],
   "source": [
    "kfolds = KFold(n_splits=10, shuffle=True, random_state=42)\n",
    "\n",
    "# model scoring and validation function\n",
    "def cv_rmse(model, X=X):\n",
    "    rmse = np.sqrt(-cross_val_score(model, X, y,scoring=\"neg_mean_squared_error\",cv=kfolds))\n",
    "    return (rmse)\n",
    "\n",
    "# rmsle scoring function\n",
    "def rmsle(y, y_pred):\n",
    "    return np.sqrt(mean_squared_error(y, y_pred))"
   ]
  },
  {
   "cell_type": "code",
   "execution_count": 18,
   "metadata": {},
   "outputs": [],
   "source": [
    "lightgbm = LGBMRegressor(objective='regression', \n",
    "                                       num_leaves=4, #was 3\n",
    "                                       learning_rate=0.01, \n",
    "                                       n_estimators=8000,\n",
    "                                       max_bin=200, \n",
    "                                       bagging_fraction=0.75,\n",
    "                                       bagging_freq=5, \n",
    "                                       bagging_seed=7,\n",
    "                                       feature_fraction=0.2, # 'was 0.2'\n",
    "                                       feature_fraction_seed=7,\n",
    "                                       verbose=-1,\n",
    "                                       )"
   ]
  },
  {
   "cell_type": "code",
   "execution_count": 19,
   "metadata": {},
   "outputs": [],
   "source": [
    "# This is a range of values that the model considers each time in runs a CV\n",
    "e_alphas = [0.0001, 0.0002, 0.0003, 0.0004, 0.0005, 0.0006, 0.0007]\n",
    "e_l1ratio = [0.8, 0.85, 0.9, 0.95, 0.99, 1]\n",
    "alphas_alt = [14.5, 14.6, 14.7, 14.8, 14.9, 15, 15.1, 15.2, 15.3, 15.4, 15.5]\n",
    "alphas2 = [5e-05, 0.0001, 0.0002, 0.0003, 0.0004, 0.0005, 0.0006, 0.0007, 0.0008]"
   ]
  },
  {
   "cell_type": "code",
   "execution_count": 20,
   "metadata": {},
   "outputs": [],
   "source": [
    "# Kernel Ridge Regression : made robust to outliers\n",
    "ridge = make_pipeline(RobustScaler(), RidgeCV(alphas=alphas_alt, cv=kfolds))\n",
    "\n",
    "# LASSO Regression : made robust to outliers\n",
    "lasso = make_pipeline(RobustScaler(), LassoCV(max_iter=1e7, \n",
    "                    alphas=alphas2,random_state=42, cv=kfolds))\n",
    "\n",
    "# Elastic Net Regression : made robust to outliers\n",
    "elasticnet = make_pipeline(RobustScaler(), ElasticNetCV(max_iter=1e7, \n",
    "                         alphas=e_alphas, cv=kfolds, l1_ratio=e_l1ratio))\n",
    "\n",
    "\n",
    "stack_gen = StackingCVRegressor(regressors=(ridge, lasso, elasticnet, lightgbm),\n",
    "                                meta_regressor=elasticnet,\n",
    "                                use_features_in_secondary=True)\n",
    "\n",
    "# store models, scores and prediction values \n",
    "models = {'Ridge': ridge,\n",
    "          'Lasso': lasso, \n",
    "          'ElasticNet': elasticnet,\n",
    "          'lightgbm': lightgbm}\n",
    "#           'xgboost': xgboost}\n",
    "predictions = {}\n",
    "scores = {}"
   ]
  },
  {
   "cell_type": "markdown",
   "metadata": {},
   "source": [
    "### Train model "
   ]
  },
  {
   "cell_type": "code",
   "execution_count": 22,
   "metadata": {},
   "outputs": [],
   "source": [
    "for name, model in models.items():\n",
    "    y = y_train\n",
    "    model.fit(X, y)\n",
    "    predictions[name] = np.expm1(model.predict(X))\n",
    "    \n",
    "    score = cv_rmse(model, X=X)\n",
    "    scores[name] = (score.mean(), score.std())"
   ]
  },
  {
   "cell_type": "code",
   "execution_count": 23,
   "metadata": {},
   "outputs": [
    {
     "name": "stdout",
     "output_type": "stream",
     "text": [
      "---- Score with CV_RMSLE-----\n",
      "Ridge score: 0.1261 (0.0282)\n",
      "\n",
      "Lasso score: 0.1237 (0.0283)\n",
      "\n",
      "ElasticNet score: 0.1235 (0.0283)\n",
      "\n",
      "lightgbm score: 0.1194 (0.0187)\n",
      "\n",
      "----START Fit---- 2019-07-25 18:03:32.690611\n",
      "Elasticnet\n",
      "Lasso\n",
      "Ridge\n",
      "lightgbm\n",
      "stack_gen\n"
     ]
    }
   ],
   "source": [
    "# get the performance of each model on training data(validation set)\n",
    "print('---- Score with CV_RMSLE-----')\n",
    "score = cv_rmse(ridge)\n",
    "print(\"Ridge score: {:.4f} ({:.4f})\\n\".format(score.mean(), score.std()))\n",
    "\n",
    "score = cv_rmse(lasso)\n",
    "print(\"Lasso score: {:.4f} ({:.4f})\\n\".format(score.mean(), score.std()))\n",
    "\n",
    "score = cv_rmse(elasticnet)\n",
    "print(\"ElasticNet score: {:.4f} ({:.4f})\\n\".format(score.mean(), score.std()))\n",
    "\n",
    "score = cv_rmse(lightgbm)\n",
    "print(\"lightgbm score: {:.4f} ({:.4f})\\n\".format(score.mean(), score.std()))\n",
    "\n",
    "# score = cv_rmse(xgboost)\n",
    "# print(\"xgboost score: {:.4f} ({:.4f})\\n\".format(score.mean(), score.std()))\n",
    "\n",
    "\n",
    "#Fit the training data X, y\n",
    "print('----START Fit----',datetime.now())\n",
    "print('Elasticnet')\n",
    "elastic_model = elasticnet.fit(X, y)\n",
    "print('Lasso')\n",
    "lasso_model = lasso.fit(X, y)\n",
    "print('Ridge')\n",
    "ridge_model = ridge.fit(X, y)\n",
    "print('lightgbm')\n",
    "lgb_model_full_data = lightgbm.fit(X, y)\n",
    "\n",
    "# print('xgboost')\n",
    "# xgb_model_full_data = xgboost.fit(X, y)\n",
    "\n",
    "\n",
    "print('stack_gen')\n",
    "stack_gen_model = stack_gen.fit(np.array(X), np.array(y))"
   ]
  },
  {
   "cell_type": "code",
   "execution_count": 24,
   "metadata": {},
   "outputs": [],
   "source": [
    "def blend_models_predict(X):\n",
    "    return ((0.25  * elastic_model.predict(X)) + \\\n",
    "            (0.25 * lasso_model.predict(X)) + \\\n",
    "            (0.2 * ridge_model.predict(X)) + \\\n",
    "            (0.10 * lgb_model_full_data.predict(X)) + \\\n",
    "#             (0.1 * xgb_model_full_data.predict(X)) + \\\n",
    "            (0.2 * stack_gen_model.predict(np.array(X))))"
   ]
  },
  {
   "cell_type": "code",
   "execution_count": 25,
   "metadata": {},
   "outputs": [
    {
     "name": "stdout",
     "output_type": "stream",
     "text": [
      "RMSLE score on train data:\n",
      "0.1018122754274746\n"
     ]
    }
   ],
   "source": [
    "print('RMSLE score on train data:')\n",
    "print(rmsle(y, blend_models_predict(X)))"
   ]
  },
  {
   "cell_type": "code",
   "execution_count": 28,
   "metadata": {},
   "outputs": [
    {
     "name": "stdout",
     "output_type": "stream",
     "text": [
      "Predict submission\n"
     ]
    }
   ],
   "source": [
    "print('Predict submission')\n",
    "submission = pd.read_csv(\"./sample_submission.csv\")\n",
    "submission.iloc[:,1] = (np.expm1(blend_models_predict(X_test)))"
   ]
  },
  {
   "cell_type": "code",
   "execution_count": 29,
   "metadata": {},
   "outputs": [],
   "source": [
    "submission.to_csv(\"submission.csv\", index=False)"
   ]
  }
 ],
 "metadata": {
  "kernelspec": {
   "display_name": "Python 3",
   "language": "python",
   "name": "python3"
  },
  "language_info": {
   "codemirror_mode": {
    "name": "ipython",
    "version": 3
   },
   "file_extension": ".py",
   "mimetype": "text/x-python",
   "name": "python",
   "nbconvert_exporter": "python",
   "pygments_lexer": "ipython3",
   "version": "3.7.3"
  }
 },
 "nbformat": 4,
 "nbformat_minor": 2
}
